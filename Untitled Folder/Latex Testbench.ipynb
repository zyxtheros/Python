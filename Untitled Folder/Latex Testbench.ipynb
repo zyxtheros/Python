{
 "cells": [
  {
   "cell_type": "markdown",
   "metadata": {
    "tags": [
     "text",
     "modifiers",
     "text-modifiers",
     "linebreak",
     "line-break"
    ]
   },
   "source": [
    "To create a line break, end a line with two or more spaces, and then type return. eg:  \n",
    "one fish  \n",
    "two fish  \n",
    "red fish  \n",
    "blue fish\n",
    "\n",
    "However, the ```<br>``` command also works:\n",
    "one fish<br>two fish<br>red fish<br>blue fish"
   ]
  },
  {
   "cell_type": "markdown",
   "metadata": {
    "tags": [
     "text",
     "modifiers",
     "text-modifiers",
     "linerule",
     "line-rule"
    ]
   },
   "source": [
    "This is a linerule:\n",
    "\n",
    "---\n",
    "To create a linerule, simply use two line breaks, and enter either ```---```, ```***```, or ```___```"
   ]
  },
  {
   "cell_type": "markdown",
   "metadata": {},
   "source": [
    "To insert a mathematical formula we use the dollar symbol , as follows:\n",
    "Euler's identity: $ e^{i \\pi} + 1 = 0 $\n",
    "To isolate and center the formulas and enter in math display mode, we use 2 dollars symbol:\n",
    "$$\n",
    "...\n",
    "$$\n",
    "Euler's identity: $$ e^{i \\pi} + 1 = 0 $$"
   ]
  },
  {
   "cell_type": "markdown",
   "metadata": {
    "tags": [
     "text",
     "modifiers",
     "text-modifiers",
     "quotes",
     "quotation"
    ]
   },
   "source": [
    ">Hmm... I like what this quote says"
   ]
  },
  {
   "cell_type": "code",
   "execution_count": 1,
   "metadata": {},
   "outputs": [
    {
     "name": "stdout",
     "output_type": "stream",
     "text": [
      "this is a snippet of code, that executes!\n",
      "1 + 1 =  2\n"
     ]
    }
   ],
   "source": [
    "print(\"this is a snippet of code, that executes!\")\n",
    "print(\"1 + 1 = \", 1+1)"
   ]
  },
  {
   "cell_type": "markdown",
   "metadata": {
    "tags": [
     "math",
     "mathmode"
    ]
   },
   "source": [
    "## Using mathmode\n",
    "when using mathmode, all of the rendered Latex commands will be center aligned by default and created on a new line  \n",
    "\n",
    "$$\n",
    "\\frac{arg 1}{arg 2} \\\n",
    "x^2\\\\\n",
    "e^{i\\pi}\\\\\n",
    "A_i\\\\\n",
    "B_{ij}\\\\\n",
    "\\sqrt[n]{arg}\t\n",
    "$$"
   ]
  },
  {
   "cell_type": "markdown",
   "metadata": {},
   "source": [
    "<!-- [Text](link) -->\n",
    "[Link Here, click me!!](https://miro.medium.com/max/423/1*rvn-mNdprK7m1koOns8ilg.png \"Optional Title\")\n",
    "\n",
    "## An unlinked image:\n",
    "<!-- ![Alt Text](image path \"title\") -->\n",
    "![Alt Text](https://miro.medium.com/max/423/1*rvn-mNdprK7m1koOns8ilg.png \"Optional Title\")\n",
    "\n",
    "## A linked image:\n",
    "<!-- Linking Image -->\n",
    "<!-- [![Alt Text](image path \"title\")](link) -->\n",
    "[![Alt Text](https://miro.medium.com/max/423/1*rvn-mNdprK7m1koOns8ilg.png \"Optional Title\")](https://gmail.com)"
   ]
  },
  {
   "cell_type": "markdown",
   "metadata": {},
   "source": [
    "```_DRAMA_```  =  _DRAMA_  \n",
    "```*WOOOOOW*``` =  *WOOOOOW*  \n",
    "```**YES!**```   = **YES!**  \n",
    "```***Oh no***``` =  ***Oh no***"
   ]
  },
  {
   "cell_type": "code",
   "execution_count": null,
   "metadata": {},
   "outputs": [],
   "source": []
  }
 ],
 "metadata": {
  "kernelspec": {
   "display_name": "Python 3",
   "language": "python",
   "name": "python3"
  },
  "language_info": {
   "codemirror_mode": {
    "name": "ipython",
    "version": 3
   },
   "file_extension": ".py",
   "mimetype": "text/x-python",
   "name": "python",
   "nbconvert_exporter": "python",
   "pygments_lexer": "ipython3",
   "version": "3.7.6"
  }
 },
 "nbformat": 4,
 "nbformat_minor": 4
}
